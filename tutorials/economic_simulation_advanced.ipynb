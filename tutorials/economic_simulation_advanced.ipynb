
{
 "cells": [
  {
   "cell_type": "markdown",
   "metadata": {},
   "source": [
    "Copyright (c) 2020, salesforce.com, inc.  \n",
    "All rights reserved.  \n",
    "SPDX-License-Identifier: BSD-3-Clause  \n",
    "For full license text, see the LICENSE file in the repo root or https://opensource.org/licenses/BSD-3-Clause"
   ]
  },
  {
   "cell_type": "markdown",
   "metadata": {},
   "source": [
    "### Colab\n",
    "\n",
    "Try this notebook on [Colab](http://colab.research.google.com/github/salesforce/ai-economist/blob/master/tutorials/economic_simulation_advanced.ipynb)."
   ]
  },
  {
   "cell_type": "markdown",
   "metadata": {},
   "source": [
    "# The Structure of Foundation + How to Extend It \n",
    "\n",
    "In this tutorial, we will explain the low-level compositional structure of Foundation, the economic simulation. Its architecture stems from three main design goals:\n",
    "\n",
    "1. Flexibility: e.g., it should be easy to create worlds with or without income taxes.\n",
    "2. Extensibility: adding new entities and components should follow an easy and transparent process.\n",
    "3. Simplicity: avoid deep class hierarchies.\n",
    "\n",
    "To support these goals, Foundation modularizes the pieces of the simulation as much as possible. Below, we explain what these pieces actually are and how simulation environments are built from them. Understanding this structure will undoubtedly be useful when extending Foundation.\n",
    "\n",
    "Foundation builds economic simulations using Scenario classes. Scenarios compose the simulation's constituent classes into an actual simulation environment. The majority of this tutorial is used to introduce the semantics of each such class type:\n",
    "\n",
    "1. Scenario\n",
    "2. World\n",
    "    - Maps\n",
    "3. Entities\n",
    "    - Resources\n",
    "    - Landmarks\n",
    "    - Endogenous\n",
    "4. Agents\n",
    "5. Components\n",
    "\n",
    "\n",
    "To conclude the tutorial, we will focus on how to extend the economic simulation:\n",
    "\n",
    "6. How the simulation pieces interact\n",
    "7. Exercise: creating a new Component\n",
    "8. Helpful tips"
   ]
  },
  {
   "cell_type": "markdown",
   "metadata": {},
   "source": [
    "### Before we jump into the details...\n",
    "... let's revisit some basics (covered in detail [here](https://github.com/salesforce/ai-economist/blob/master/tutorials/economic_simulation_basic.ipynb)).\n",
    "\n",
    "Simulation environments exist as Python objects and are interacted with through a gym-style API:\n",
    "```python\n",
    "env = Scenario(...)\n",
    "obs = env.reset()\n",
    "obs, rew, done, info = env.step(actions) # w/ actions <-- policy(obs)\n",
    "```\n",
    "An environment is responsible for providing some *observations* based on the world & agent states and updating these states based on the *actions* taken by the agents and the dynamics of the environment.\n",
    "\n",
    "These dynamics are encapsulated in **Scenario** and **Component** classes, and most extensions of the simulation framework will likely focus on those classes. As a general description...\n",
    "- A **Scenario** provides the backbone of the environment: \n",
    "    - it sets up the world and the agents,\n",
    "    - adds some passive dynamics, \n",
    "    - supplies some observations, \n",
    "    - and generates rewards.\n",
    "- **Components** are how agents interact with the environment: \n",
    "    - they add actions,\n",
    "    - mediate the effect of whatever actions they add,\n",
    "    - and provide relevant observations.\n",
    "\n",
    "(now for the details!)"
   ]
  },
  {
   "cell_type": "markdown",
   "metadata": {},
   "source": [
    "## Dependencies\n",
    "\n",
    "You can install the ai-economist package using the pip package manager:"
   ]
  },
  {
   "cell_type": "code",
   "execution_count": null,
   "metadata": {},
   "outputs": [],
   "source": [
    "import os, signal, sys, time\n",
    "IN_COLAB = 'google.colab' in sys.modules\n",
    "\n",
    "if IN_COLAB:\n",
    "    !pip install ai-economist\n",
    "    \n",
    "    # Restart the Python runtime to automatically use the installed packages\n",
    "    print(\"\\n\\nRestarting the Python runtime! Please (re-)run the cells below.\")\n",
    "    time.sleep(1)\n",
    "    os.kill(os.getpid(), signal.SIGKILL)\n",
    "else:\n",
    "    !pip install ai-economist"
   ]
  },
  {
   "cell_type": "code",
   "execution_count": null,
   "metadata": {},
   "outputs": [],
   "source": [
    "from ai_economist import foundation"
   ]
  },
  {
   "cell_type": "markdown",
   "metadata": {},
   "source": [
    "## Registry\n",
    "\n",
    "The Registry class enables conveniently creating classes, such as Scenarios and Resources, using their names (as a string). Each class can be added to the Registry using the *add()* method and can be retrieved using their *name* property.\n",
    "\n",
    "For example, the *make_env_instance* convenience method used below, can create a basic ```\"layout_from_file/simple_wood_and_stone\"``` Scenario by first retrieving the associated Class from the registry:"
   ]
  },
  {
   "cell_type": "code",
   "execution_count": null,
   "metadata": {},
   "outputs": [],
   "source": [
    "from ai_economist.foundation.base.base_env import BaseEnvironment, scenario_registry"
   ]
  },
  {
   "cell_type": "code",
   "execution_count": null,
   "metadata": {},
   "outputs": [],
   "source": [
    "test_env_cls = scenario_registry.get(\"layout_from_file/simple_wood_and_stone\")"
   ]
  },
  {
   "cell_type": "code",
   "execution_count": null,
   "metadata": {},
   "outputs": [],
   "source": [
    "test_env_cls.name"
   ]
  },
  {
   "cell_type": "markdown",
   "metadata": {},
   "source": [
    "To add a new class to a Registry, you can use a decorator as follows:"
   ]
  },
  {
   "cell_type": "code",
   "execution_count": null,
   "metadata": {},
   "outputs": [],
   "source": [
    "@scenario_registry.add\n",
    "class NewEnvironment(BaseEnvironment):\n",
    "    name = \"NewEnvironment\""
   ]
  },
  {
   "cell_type": "code",
   "execution_count": null,
   "metadata": {},
   "outputs": [],
   "source": [
    "new_env_cls = scenario_registry.get(\"NewEnvironment\")"
   ]
  },
  {
   "cell_type": "code",
   "execution_count": null,
   "metadata": {},
   "outputs": [],
   "source": [
    "new_env_cls.name"
   ]
  },
  {
   "cell_type": "code",
   "execution_count": null,
   "metadata": {},
   "outputs": [],
   "source": [
    "# These are the Scenario classes registered in scenario_registry\n",
    "print(scenario_registry.entries)"
   ]
  },
  {
   "cell_type": "markdown",
   "metadata": {},
   "source": [
    "There is a separate registry for each type of environment component. The ```foundation``` package exposes them as follows:"
   ]
  },
  {
   "cell_type": "code",
   "execution_count": null,
   "metadata": {},
   "outputs": [],
   "source": [
    "# Scenarios:\n",
    "print(foundation.scenarios.entries)"
   ]
  },
  {
   "cell_type": "code",
   "execution_count": null,
   "metadata": {},
   "outputs": [],
   "source": [
    "# Entities (landmarks, resources, endogenous):\n",
    "print(foundation.landmarks.entries)\n",
    "print(foundation.resources.entries)\n",
    "print(foundation.endogenous.entries)"
   ]
  },
  {
   "cell_type": "code",
   "execution_count": null,
   "metadata": {},
   "outputs": [],
   "source": [
    "# Agents:\n",
    "print(foundation.agents.entries)"
   ]
  },
  {
   "cell_type": "code",
   "execution_count": null,
   "metadata": {},
   "outputs": [],
   "source": [
    "# Components:\n",
    "print(foundation.components.entries)"
   ]
  },
  {
   "cell_type": "markdown",
   "metadata": {},
   "source": [
    "# 1. Scenarios\n",
    "\n",
    "As discussed in [the basics tutorial](https://github.com/salesforce/ai-economist/blob/master/tutorials/economic_simulation_basic.ipynb), the Scenario class implements an economic simulation with multiple agents and (optionally) a social planner. \n",
    "\n",
    "We will create the same environment instance used in that tutorial, using the configuration below. This configuration defines a simulation with four agents in a world of 15 by 15 cells. Each Agent can: \n",
    "\n",
    "- gather collectible Resources (through the Gather Component), \n",
    "- build Houses (through the Build Component), and \n",
    "- trade collectible Resources (through the ContinuousDoubleAuction Component)."
   ]
  },
  {
   "cell_type": "code",
   "execution_count": null,
   "metadata": {},
   "outputs": [],
   "source": [
    "# Define the configuration of the environment that will be built\n",
    "\n",
    "env_config = {\n",
    "    # ===== STANDARD ARGUMENTS ======\n",
    "    'n_agents': 4,          # Number of non-planner agents\n",
    "    'world_size': [15, 15], # [Height, Width] of the env world\n",
    "    'episode_length': 1000, # Number of timesteps per episode\n",
    "    \n",
    "    # In multi-action-mode, the policy selects an action for each action subspace (defined in component code)\n",
    "    # Otherwise, the policy selects only 1 action\n",
    "    'multi_action_mode_agents': False,\n",
    "    'multi_action_mode_planner': True,\n",
    "    \n",
    "    # When flattening observations, concatenate scalar & vector observations before output\n",
    "    # Otherwise, return observations with minimal processing\n",
    "    'flatten_observations': False,\n",
    "    # When Flattening masks, concatenate each action subspace mask into a single array\n",
    "    # Note: flatten_masks = True is recommended for masking action logits\n",
    "    'flatten_masks': True,\n",
    "    \n",
    "    \n",
    "    # ===== COMPONENTS =====\n",
    "    # Which components to use (specified as list of {\"component_name\": {component_kwargs}} dictionaries)\n",
    "    #   \"component_name\" refers to the component class's name in the Component Registry\n",
    "    #   {component_kwargs} is a dictionary of kwargs passed to the component class\n",
    "    # The order in which components reset, step, and generate obs follows their listed order below\n",
    "    'components': [\n",
    "        # (1) Building houses\n",
    "        {'Build': {}},\n",
    "        # (2) Trading collectible resources\n",
    "        {'ContinuousDoubleAuction': {'max_num_orders': 5}},\n",
    "        # (3) Movement and resource collection\n",
    "        {'Gather': {}},\n",
    "    ],\n",
    "    \n",
    "    # ===== SCENARIO =====\n",
    "    # Which scenario class to use (specified by the class's name in the Scenario Registry)\n",
    "    'scenario_name': 'uniform/simple_wood_and_stone',\n",
    "    \n",
    "    # (optional) kwargs of the chosen scenario class\n",
    "    'starting_agent_coin': 10,\n",
    "    'starting_stone_coverage': 0.10,\n",
    "    'starting_wood_coverage':  0.10,\n",
    "}"
   ]
  },
  {
   "cell_type": "markdown",
   "metadata": {},
   "source": [
    "This configuration dictionary lists the used Components, each can be configured through a dictionary of Component-specific settings. \n",
    "\n",
    "Creating a Scenario can be done using a convenience method:"
   ]
  },
  {
   "cell_type": "code",
   "execution_count": null,
   "metadata": {},
   "outputs": [],
   "source": [
    "env = foundation.make_env_instance(**env_config)"
   ]
  },
  {
   "cell_type": "code",
   "execution_count": null,
   "metadata": {
    "scrolled": true
   },
   "outputs": [],
   "source": [
    "obs = env.reset()"
   ]
  },
  {
   "cell_type": "markdown",
   "metadata": {},
   "source": [
    "In the above code, ```env``` is an instance of the Scenario class stored in ```scenario_registry``` as ```\"uniform/simple_wood_and_stone\"```"
   ]
  },
  {
   "cell_type": "code",
   "execution_count": null,
   "metadata": {},
   "outputs": [],
   "source": [
    "uniform_cls = scenario_registry.get(env_config['scenario_name'])\n",
    "isinstance(env, uniform_cls)"
   ]
  },
  {
   "cell_type": "markdown",
   "metadata": {},
   "source": [
    "This Scenario class (and all Scenario classes) are subclasses of ```BaseEnvironment``` (meaning ```env``` is also an instance of ```BaseEnvironment```)."
   ]
  },
  {
   "cell_type": "code",
   "execution_count": null,
   "metadata": {},
   "outputs": [],
   "source": [
    "isinstance(env, BaseEnvironment)"
   ]
  },
  {
   "cell_type": "markdown",
   "metadata": {},
   "source": [
    "**Why this structure?** The ```env``` object is responsible for a lot! It organizes all the pieces (the world, agents, and components) into a coherent environment with a simple and consistent API. It also implements some of the behavior of the environment itself: the passive (not action-dependent) dynamics of the world, baseline observations, and rewards.\n",
    "\n",
    "That first domain of functionality is implemented in the ```BaseEnvironment``` code and the second domain of functionality (the \"behavior\") is implemented separately by each Scenario class via the following methods:\n",
    "```python\n",
    "from ai_economist.foundation.base.base_env import BaseEnvironment, scenario_registry\n",
    "\n",
    "@scenario_registry.add\n",
    "class EmptyScenario(BaseEnvironment):\n",
    "    name = \"Empty\"\n",
    "    required_entities = []\n",
    "    \n",
    "    def reset_layout(self):\n",
    "        \"\"\"Resets the state of the world object (self.world).\"\"\"\n",
    "        pass\n",
    "    \n",
    "    def reset_agent_states(self):\n",
    "        \"\"\"Resets the state of the agent objects (self.world.agents & self.world.planner).\"\"\"\n",
    "        pass\n",
    "    \n",
    "    def scenario_step(self):\n",
    "        \"\"\"Implements the passive dynamics of the environment.\"\"\"\n",
    "        pass\n",
    "    \n",
    "    def generate_observations(self):\n",
    "        \"\"\"Yields some basic observations about the world/agent states.\"\"\"\n",
    "        pass\n",
    "    \n",
    "    def compute_reward(self):\n",
    "        \"\"\"Determines the reward each agent receives at the end of each timestep.\"\"\"\n",
    "        pass\n",
    "```\n",
    "\n",
    "The expected behaviors of these methods are described extensively in the internal documentation of ```BaseEnvironment```, where they are defined as abstract methods (see [foundation/base/base_env.py](https://github.com/salesforce/ai-economist/blob/master/ai_economist/foundation/base/base_env.py))."
   ]
  },
  {
   "cell_type": "markdown",
   "metadata": {},
   "source": [
    "```env```, which is an instance of the ```\"uniform/simple_wood_and_stone\"``` Scenario class, has the following behavior:\n",
    "- **reset_layout**: Samples a new spatial layout of Stone and Wood source tiles in the world.\n",
    "- **reset_agent_states**: Resets agent inventories and their starting locations in the world.\n",
    "- **scenario_step**: Stochastically re-spawns Stone and Wood at empty source tiles.\n",
    "- **generate_observations**: Generates observations related to inventory and the spatial state of the world.\n",
    "- **compute_reward**: Marginal utility for each agent in ```env.world.agents```; marginal social welfare for ```env.world.planner```.\n",
    "\n",
    "Check out [the code for this Scenario class](https://github.com/salesforce/ai-economist/blob/master/ai_economist/foundation/scenarios/simple_wood_and_stone/dynamic_layout.py) to see how this behavior is implemented.\n",
    "\n",
    "**Note**: This example refers to some concepts we haven't introduced yet (source tiles, inventories, etc.). We'll cover those in the sections below!"
   ]
  },
  {
   "cell_type": "markdown",
   "metadata": {},
   "source": [
    "# 2. World and Maps\n",
    "\n",
    "Above, we saw how a Scenario class resets the spatial state of the world, but **where is this spatial state represented?**\n",
    "\n",
    "Each Scenario will include an instance of the **World** class ```env.world``` to wrap agent instances (more on that below) and an instance of the **Maps** class ```env.world.maps```. **The Maps class stores and manipulates the spatial state of the environment**, such as the locations of Agents and other Entities.\n",
    "\n",
    "Both classes (World and Maps) are implemented in [foundation/base/world.py](https://github.com/salesforce/ai-economist/blob/master/ai_economist/foundation/base/world.py).\n",
    "\n",
    "The **maps** object ```env.world.maps``` holds a 2-dimensional NumPy array that records the location of Entities in the world."
   ]
  },
  {
   "cell_type": "code",
   "execution_count": null,
   "metadata": {},
   "outputs": [],
   "source": [
    "# For each key, the maps object has a [Height, Width] array for the spatial layout of that Entity in the world.\n",
    "env.world.maps.keys()"
   ]
  },
  {
   "cell_type": "markdown",
   "metadata": {},
   "source": [
    "For instance, we can visualize where the Stone is in the world:"
   ]
  },
  {
   "cell_type": "code",
   "execution_count": null,
   "metadata": {},
   "outputs": [],
   "source": [
    "# Note: this map has the same size as our world (15 by 15)\n",
    "env.world.maps.get(\"Stone\")"
   ]
  },
  {
   "cell_type": "markdown",
   "metadata": {},
   "source": [
    "The **world** object ```env.world``` provides some tools for interfacing with **maps**.\n",
    "\n",
    "To see which Resources are in a certain cell, you can use the convenience method *location_resources*:"
   ]
  },
  {
   "cell_type": "code",
   "execution_count": null,
   "metadata": {},
   "outputs": [],
   "source": [
    "env.world.location_resources(0, 0)"
   ]
  },
  {
   "cell_type": "markdown",
   "metadata": {},
   "source": [
    "To see which Landmarks are in a certain cell, you can use the convenience method *location_landmarks*:"
   ]
  },
  {
   "cell_type": "code",
   "execution_count": null,
   "metadata": {},
   "outputs": [],
   "source": [
    "env.world.location_landmarks(0, 0)"
   ]
  },
  {
   "cell_type": "markdown",
   "metadata": {},
   "source": [
    "# 3. Entities\n",
    "\n",
    "Agents in the economic simulation can interact with Entities. There are 3 groups of Entities, each with their own semantics:\n",
    "\n",
    "- **Landmarks** show up in the spatial world \n",
    "- **Resources** show up in agent inventories and (optionally) also the spatial world\n",
    "- **Endogenous** entities represent abstract quantities (like effort) that agents can only observe about themselves\n",
    "\n",
    "You can find their definitions in [foundation/entities](https://github.com/salesforce/ai-economist/blob/master/ai_economist/foundation/entities). Again, we will use convenient Registries to retrieve the various classes."
   ]
  },
  {
   "cell_type": "markdown",
   "metadata": {},
   "source": [
    "## Landmarks\n",
    "\n",
    "Landmarks represent entities that exist exclusively in the spatial world, for example a block of Water that agents can't move over.\n",
    "\n",
    "In the current implementation, there are three types of Landmarks: House, Water and SourceBlock. SourceBlocks are special Landmarks from which Resources can spawn."
   ]
  },
  {
   "cell_type": "code",
   "execution_count": null,
   "metadata": {},
   "outputs": [],
   "source": [
    "house = foundation.landmarks.get(\"House\")\n",
    "water = foundation.landmarks.get(\"Water\")\n",
    "source_block_wood = foundation.landmarks.get(\"WoodSourceBlock\")"
   ]
  },
  {
   "cell_type": "markdown",
   "metadata": {},
   "source": [
    "For each Landmark, the class defines:\n",
    "\n",
    "- its name, \n",
    "- its color, \n",
    "- whether the Landmark is ownable by an Agent (e.g., Houses), and \n",
    "- whether it's solid (e.g., Water).\n",
    "\n",
    "An agent cannot occupy the same location as a solid landmark (e.g. Water) unless it owns that landmark (e.g. a House)."
   ]
  },
  {
   "cell_type": "code",
   "execution_count": null,
   "metadata": {},
   "outputs": [],
   "source": [
    "[k for k in dir(house) if k[0] != \"_\"]"
   ]
  },
  {
   "cell_type": "markdown",
   "metadata": {},
   "source": [
    "**Note**: The simulation does *not* instantiate a separate Python instance of a Landmark for each occurrence of a Landmark in the world! Rather, each Landmark class defines the abstract properties of any instance of that Landmark.\n",
    "\n",
    "```env.world.maps``` keeps track of where all the units of a Landmark are using a 2-dimensional NumPy array, as illustrated above."
   ]
  },
  {
   "cell_type": "markdown",
   "metadata": {},
   "source": [
    "## Resources\n",
    "\n",
    "Resources are another important type of Entity in the world. Resources are semantically different from Landmarks, because Resources can be traded, collected, and converted into other Entities (e.g., Wood and Stone are used to build a House).\n",
    "\n",
    "In particular, Resources are the entities in the world that an agent can own as part of its **inventory**:"
   ]
  },
  {
   "cell_type": "code",
   "execution_count": null,
   "metadata": {},
   "outputs": [],
   "source": [
    "env.get_agent(agent_idx=0).inventory"
   ]
  },
  {
   "cell_type": "markdown",
   "metadata": {},
   "source": [
    "A Resource has three main attributes: \n",
    "- its name, \n",
    "- its color (convenient for visualization),\n",
    "- and whether it's collectible.\n",
    "\n",
    "For example, we can see that Wood is collectible."
   ]
  },
  {
   "cell_type": "code",
   "execution_count": null,
   "metadata": {},
   "outputs": [],
   "source": [
    "wood = foundation.resources.get(\"Wood\")\n",
    "\n",
    "wood.name, wood.collectible, wood.color"
   ]
  },
  {
   "cell_type": "markdown",
   "metadata": {},
   "source": [
    "On the other hand, Coin is *not* collectible (but can be owned)."
   ]
  },
  {
   "cell_type": "code",
   "execution_count": null,
   "metadata": {},
   "outputs": [],
   "source": [
    "coin = foundation.resources.get(\"Coin\")\n",
    "\n",
    "coin.collectible"
   ]
  },
  {
   "cell_type": "markdown",
   "metadata": {},
   "source": [
    "Note that collectible Resources (Wood & Stone) get a special Landmark type (source blocks), which both show up in the Map, whereas non-collectible Resources (Coin) only exist as part of the inventory.\n",
    "\n",
    "In other words, **collectible Resources start as part of the spatial world but can be moved into an agent's inventory.**\n",
    "\n",
    "```env.world.maps``` keeps track of where all the units of a **collectible** Resource are using a 2-dimensional NumPy array, as illustrated above."
   ]
  },
  {
   "cell_type": "markdown",
   "metadata": {},
   "source": [
    "## Endogenous Entities\n",
    "\n",
    "Certain semantic concepts do not have a physical realization, but are important because they determine, e.g., an Agent's utility. The main example is Labor.\n",
    "\n",
    "The definition of Labor is rather simple, it only defines the name."
   ]
  },
  {
   "cell_type": "code",
   "execution_count": null,
   "metadata": {},
   "outputs": [],
   "source": [
    "labor = foundation.endogenous.get(\"Labor\")\n",
    "\n",
    "[k for k in dir(labor) if k[0] != \"_\"]"
   ]
  },
  {
   "cell_type": "markdown",
   "metadata": {},
   "source": [
    "Endogenous entities, like Resources, can be accumulated, **but their quantities are stored outside of the inventory**. (This is done to make it easier to separate Resources and Endogenous entities when generating observations.)"
   ]
  },
  {
   "cell_type": "code",
   "execution_count": null,
   "metadata": {},
   "outputs": [],
   "source": [
    "agent0 = env.get_agent(agent_idx=0)\n",
    "print(agent0.inventory)\n",
    "print(agent0.endogenous)"
   ]
  },
  {
   "cell_type": "markdown",
   "metadata": {},
   "source": [
    "# 4. Agents\n",
    "\n",
    "```env.world``` also wraps **agent** instances. There will be ```env.n_agents``` \"mobile\" agents + 1 \"planner\" agent. Each such agent is represented as a separate Python object:\n",
    "\n",
    "The ```env.n_agents``` \"mobile\" agents (representing individual workers in the economy):"
   ]
  },
  {
   "cell_type": "code",
   "execution_count": null,
   "metadata": {},
   "outputs": [],
   "source": [
    "env.world.agents"
   ]
  },
  {
   "cell_type": "markdown",
   "metadata": {},
   "source": [
    "The \"planner\" agent (representing a Social Planner that sets, for example, tax policy)"
   ]
  },
  {
   "cell_type": "code",
   "execution_count": null,