
{
 "cells": [
  {
   "cell_type": "markdown",
   "metadata": {},
   "source": [
    "Copyright (c) 2020, salesforce.com, inc.  \n",
    "All rights reserved.  \n",
    "SPDX-License-Identifier: BSD-3-Clause  \n",
    "For full license text, see the LICENSE file in the repo root or https://opensource.org/licenses/BSD-3-Clause"
   ]
  },
  {
   "cell_type": "markdown",
   "metadata": {},
   "source": [
    "### Colab\n",
    "\n",
    "Try this notebook on [Colab](http://colab.research.google.com/github/salesforce/ai-economist/blob/master/tutorials/optimal_taxation_theory_and_simulation.ipynb)."
   ]
  },
  {
   "cell_type": "markdown",
   "metadata": {},
   "source": [
    "This tutorial demonstrates how the economic simulation can be used to study the problem of **optimal taxation**.\n",
    "\n",
    "We begin with a brief introduction of optimal taxation and then show how we implement it in simulation.  \n",
    "\n",
    "For further reading, check out the AI Economist [paper](https://arxiv.org/abs/2004.13332) and [blog post](https://blog.einstein.ai/the-ai-economist/)."
   ]
  },
  {
   "cell_type": "markdown",
   "metadata": {},
   "source": [
    "# Optimal Taxation: Basics"
   ]
  },
  {
   "cell_type": "markdown",
   "metadata": {},
   "source": [
    "Broadly speaking, optimal taxation is concerned with how to best use taxes to achieve some socially desirable economic outcome, such as a society that is both prosperous and equitable.\n",
    "\n",
    "Much of the theory around this problem builds on the models developed by James Mirrlees and colleagues in the 1970s (see [Mirrlees, 1971](https://www.jstor.org/stable/2296779?seq=1)). There are several key concepts throughout this line of work which we will introduce below:\n",
    "\n",
    "* **A population of income earners**: workers in the economy, who earn income by performing labor.\n",
    "* **Skill** (or wage): the amount of income a worker is able to receive per unit labor.\n",
    "* **Utility**: the happiness each worker experiences and tries to maximize.\n",
    "* **A social planner**, which sets income tax rates and creates income redistribution.\n",
    "* **Social welfare**: the objective the planner tries to maximize."
   ]
  },
  {
   "cell_type": "markdown",
   "metadata": {},
   "source": [
    "## Individual Workers: Skill, Labor, Income, and Utility\n",
    "\n",
    "- Each worker wants to maximize his/her own happiness (utility).\n",
    "- Each worker gains utility from having money and loses utility from doing work.\n",
    "- We also assume that there is **diminishing marginal utility** from money and/or **increasing marginal cost** from doing work.\n",
    "- This means that there is a _sweet spot_ in the amount of work done/income earned where utility is maximized."
   ]
  },
  {
   "cell_type": "markdown",
   "metadata": {},
   "source": [
    "Let's explore this with some code. We define methods that implement income and utility, using skill as an input:"
   ]
  },
  {
   "cell_type": "code",
   "execution_count": null,
   "metadata": {},
   "outputs": [],
   "source": [
    "def income_earned(labor, skill):\n",
    "    \"\"\"Income is amount of work (labor) times skill.\"\"\"\n",
    "    return labor * skill\n",
    "\n",
    "def utility(labor, skill):\n",
    "    \"\"\"Utility is convex increasing in income and linearly decreasing in amount of work (labor).\"\"\"\n",
    "\n",
    "    def isoelastic_utility(z, eta=0.35):\n",
    "        \"\"\"Utility gained from income z: https://en.wikipedia.org/wiki/Isoelastic_utility\"\"\"\n",
    "        return (z**(1-eta) - 1) / (1 - eta)\n",
    "    \n",
    "    income = income_earned(labor, skill)\n",
    "    utility_from_income = isoelastic_utility(income)\n",
    "    disutility_from_labor = labor\n",
    "    \n",
    "    # Total utility is utility from income minus disutility incurred from working\n",
    "    return utility_from_income - disutility_from_labor"
   ]
  },
  {
   "cell_type": "code",
   "execution_count": null,
   "metadata": {},
   "outputs": [],
   "source": [
    "import numpy as np\n",
    "import matplotlib.pyplot as plt\n",
    "\n",
    "def plot_utility_curve(skill, ax):\n",
    "    \"\"\"Plot the curve relating labor performed to total utility.\"\"\"\n",
    "    labor_array = np.linspace(0, 1000, 501)\n",
    "    utility_array = utility(labor_array, skill)\n",
    "    ax.plot(labor_array, utility_array, label=\"Skill = {}\".format(skill))\n",
    "    ax.plot(labor_array[np.argmax(utility_array)], np.max(utility_array), 'k*', markersize=10)\n",
    "    \n",
    "fig, ax = plt.subplots(1, 1, figsize=(16, 6))\n",
    "\n",
    "for skill in [10, 15, 20, 30]:\n",
    "    plot_utility_curve(skill, ax)\n",
    "    \n",
    "ax.set_xlabel(\"Labor Performed\", fontsize=20)\n",
    "ax.set_ylabel(\"Utility Experienced\", fontsize=20)\n",
    "ax.set_xlim(left=0, right=1000)\n",
    "ax.set_ylim(bottom=0)\n",
    "ax.legend();"
   ]
  },
  {
   "cell_type": "markdown",
   "metadata": {},
   "source": [
    "Notice that in this visual demonstration, we've brought in the concept of **skill**, which describes how much income a worker makes per unit of labor. Skill is very important for a couple reasons:\n",
    "* First, the amount of income a worker gets affects how much he/she will choose to work (and, choose to earn) to maximize utility.  \n",
    "More skill -> more labor -> more total income --> more utility.\n",
    "* Second, **skill is not equal among workers**. Moreover, the market may value the labor of one worker much more than that of another, leading to **income inequality** and large differences in how much utility each agent is able to experience."
   ]
  },
  {
   "cell_type": "markdown",
   "metadata": {},
   "source": [
    "## Social Planner: taxes and social welfare\n",
    "How can we create a more equitable economy?\n",
    "- A naive approach may be to move money from rich workers to poor workers through **taxation and redistribution**.\n",
    "- The challenge there is that workers choose how much to work based on how much they earn from working, and taxes (from the worker's perspective) cause that to go down.  \n",
    "- **In other words, higher income tax -> less overall income to tax.**\n",
    "\n",
    "Just like workers want to maximize their own utility, the social planner has its own objective called **social welfare**. It is up to society to settle on a good definition of social welfare. \n",
    "\n",
    "The challenge of optimal taxation arises when social welfare emphasizes both equality (similar incomes/utilities) and productivity (total income/utility), *because there is an inherent trade-off between the two*."
   ]
  },
  {
   "cell_type": "markdown",
   "metadata": {},
   "source": [
    "# Theory to Simulation\n",
    "\n",
    "Economic theory has studied this problem in various modeling settings, but it remains hard to mathematically derive the optimal tax policy. \n",
    "\n",
    "- Simple economies yield [mathematically tractable tax formulas](https://eml.berkeley.edu/~saez/saez-stantchevaJpubE18optKtax.pdf), but fail to capture the rich dynamics of a more realistic economy.\n",
    "- Complex economies can describe economic processes and actors more accurately (e.g., [the New Dynamic Public Finance](https://econpapers.repec.org/bookchap/puppbooks/9222.htm)), but lead to tax formulas that are hard to explicitly calculate.\n",
    "\n",
    "Simulation offers a lens to understand these dynamics and enables us to use reinforcement learning to *learn* optimal tax policies. However, a good simulation is grounded in the same intuitions underlying simpler, theoretical models.\n",
    "\n",
    "Below, we unpack our approach for studying the optimal taxation problem in simulation, and highlight how we can validate emergent economic behavior."
   ]
  },
  {
   "cell_type": "markdown",
   "metadata": {},
   "source": [
    "# Simulating the optimal taxation problem\n",
    "\n",
    "Let's start with the full environment and then zoom in as needed to see how it is grounded in the key concepts of optimal taxation.  \n",
    "\n",
    "Before moving forward, you should be familiar with the basics for how to build simulation environments in our framework. Check out:\n",
    "\n",
    "- [Basics tutorial](https://github.com/salesforce/ai-economist/blob/master/tutorials/economic_simulation_basic.ipynb): this tutorial shows how to interact with the simulation.\n",
    "- [Advanced tutorial](https://github.com/salesforce/ai-economist/blob/master/tutorials/economic_simulation_advanced.ipynb): this tutorial shows how the simulation is composed out of flexible building blocks, such as Resources, Agents, and Components.\n",