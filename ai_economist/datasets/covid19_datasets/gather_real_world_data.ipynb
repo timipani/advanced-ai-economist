{
 "cells": [
  {
   "cell_type": "markdown",
   "metadata": {},
   "source": [
    "Copyright (c) 2021, salesforce.com, inc.  \n",
    "All rights reserved.  \n",
    "SPDX-License-Identifier: BSD-3-Clause  \n",
    "For full license text, see the LICENSE file in the repo root or https://opensource.org/licenses/BSD-3-Clause"
   ]
  },
  {
   "cell_type": "markdown",
   "metadata": {},
   "source": [
    "# This notebook will be used to gather real-world data and perform data processing in order to use it in the covid-19 simulation.\n",
    "\n",
    "### All the downloaded