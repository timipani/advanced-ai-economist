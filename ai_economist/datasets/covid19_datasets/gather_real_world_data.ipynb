{
 "cells": [
  {
   "cell_type": "markdown",
   "metadata": {},
   "source": [
    "Copyright (c) 2021, salesforce.com, inc.  \n",
    "All rights reserved.  \n",
    "SPDX-License-Identifier: BSD-3-Clause  \n",
    "For full license text, see the LICENSE file in the repo root or https://opensource.org/licenses/BSD-3-Clause"
   ]
  },
  {
   "cell_type": "markdown",
   "metadata": {},
   "source": [
    "# This notebook will be used to gather real-world data and perform data processing in order to use it in the covid-19 simulation.\n",
    "\n",
    "### All the downloaded data will be formatted into pandas dataframes."
   ]
  },
  {
   "cell_type": "markdown",
   "metadata": {},
   "source": [
    "## Below is the list of COVID-19 data sources used in this notebook\n",
    "\n",
    "1. **US state government policies** (Oxford Covid-19 Government Response Tracker (OxCGRT))\n",
    "\n",
    "    https://github.com/OxCGRT/USA-covid-policy\n",
    "\n",
    "\n",
    "2. **US federal government direct payments** (Committee for a Responsible Federal Budget)\n",
    "\n",
    "    https://www.covidmoneytracker.org/\n",
    "    \n",
    "    https://docs.google.com/spreadsheets/d/1Nr_J5wLfUT4IzqSXkYbdOXrRgEkBxhX0/edit#gid=682404301\n",
    "    \n",
    "\n",
    "3. **US deaths data** (COVID-19 Data Repository by the Center for Systems Science and Engineering (CSSE) at Johns Hopkins University)\n",
    "\n",
    "    https://github.com/CSSEGISandData/COVID-19\n",
    "\n",
    "\n",
    "4. **US vaccinations** (Our World in Data)\n",
    "    \n",
    "    https://ourworldindata.org/covid-vaccinations\n",
    "    \n",
    "    \n",
    "5. **US unemployment** (Bureau of Labo